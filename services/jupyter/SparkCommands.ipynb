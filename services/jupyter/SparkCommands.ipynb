{
 "cells": [
  {
   "cell_type": "markdown",
   "id": "24b832ca",
   "metadata": {},
   "source": [
    "# Spark Commands for the match algorithm"
   ]
  },
  {
   "cell_type": "markdown",
   "id": "fbcea257",
   "metadata": {},
   "source": [
    "Step 1: We need to import our libraries\n"
   ]
  },
  {
   "cell_type": "code",
   "execution_count": 1,
   "id": "6b5b7438",
   "metadata": {},
   "outputs": [],
   "source": [
    "import pyspark\n",
    "import requests\n",
    "import datetime\n",
    "import concurrent.futures\n",
    "import glob\n",
    "import pandas as pd\n",
    "from pyspark.sql import SparkSession \n",
    "import json "
   ]
  },
  {
   "cell_type": "markdown",
   "id": "da27c593",
   "metadata": {},
   "source": [
    "Step 2: We need to start a spark session"
   ]
  },
  {
   "cell_type": "code",
   "execution_count": 2,
   "id": "6e3141ae",
   "metadata": {},
   "outputs": [],
   "source": [
    "spark = SparkSession.\\\n",
    "        builder.\\\n",
    "        appName(\"pyspark-notebook\").\\\n",
    "        master(\"spark://spark-master:7077\").\\\n",
    "        config(\"spark.executor.memory\", \"512m\").\\\n",
    "        getOrCreate()\n"
   ]
  },
  {
   "cell_type": "markdown",
   "id": "2d5b0e84",
   "metadata": {},
   "source": [
    "Step 3: This is the main algorithm"
   ]
  },
  {
   "cell_type": "code",
   "execution_count": 48,
   "id": "51d7be08",
   "metadata": {},
   "outputs": [],
   "source": [
    "def main(hashed_column, noise):\n",
    "    noise = noise\n",
    "    hashed_column = hashed_column\n",
    "    start = datetime.datetime.now()\n",
    "\n",
    "    request = requests.get(f'http://cluster-a:9200//take_data/{hashed_column}/{noise}')\n",
    "    url_content = request.content\n",
    "    with open(\"/opt/workspace/a_download.csv\", 'wb') as csv_file:\n",
    "        csv_file.write(url_content)\n",
    "\n",
    "\n",
    "    request = requests.get(f'http://cluster-b:9300//take_data/{hashed_column}/{noise}')\n",
    "    url_content = request.content\n",
    "    with open(\"/opt/workspace/b_download.csv\", 'wb') as csv_file:\n",
    "        csv_file.write(url_content)\n",
    "\n",
    "\n",
    "    download_time = datetime.datetime.now() - start\n",
    "\n",
    "    df_1 = spark.read.csv(path=\"/opt/workspace/a_download.csv\", sep=\",\", header=True)\n",
    "    df_2 = spark.read.csv(path=\"/opt/workspace/b_download.csv\", sep=\",\", header=True)\n",
    "\n",
    "    df_1.createOrReplaceTempView(\"a_cluster_data\")\n",
    "    df_2.createOrReplaceTempView(\"b_cluster_data\")\n",
    "\n",
    "    start = datetime.datetime.now()\n",
    "\n",
    "\n",
    "    matched_data = spark.sql(\"  SELECT a.id as a_id, a.name as a_name, a.surname as a_surname, b.id as b_id, b.name as b_name, b.surname as b_surname   \\\n",
    "                                FROM a_cluster_data as a \\\n",
    "                                FULL OUTER JOIN b_cluster_data  as b\\\n",
    "                              \")  \n",
    "    \n",
    "    matched_data.createOrReplaceTempView(\"not_matched_data\")\n",
    "\n",
    "                                 \n",
    "    #matched_data.repartition(1).write.mode('overwrite').csv(f\"/opt/workspace/joined_result\", header=True)\n",
    "\n",
    "    joined_time = datetime.datetime.now() - start\n",
    "    \n",
    "    matched_data.createOrReplaceTempView(\"matched_data\")\n",
    "    \n",
    "    #The number of the true positives\n",
    "    TP = spark.sql(\"  SELECT *\\\n",
    "                      FROM matched_data \\\n",
    "                      WHERE matched_data.a_id == matched_data.b_id and matched_data.a_name == matched_data.b_name and matched_data.a_surname == matched_data.b_surname\")\n",
    "\n",
    "    #The number of the false positives\n",
    "    FP = spark.sql(\"  SELECT *\\\n",
    "                      FROM matched_data \\\n",
    "                      WHERE matched_data.a_id != matched_data.b_id and matched_data.a_name == matched_data.b_name and matched_data.a_surname == matched_data.b_surname\")\n",
    "\n",
    "    #The number of the false negatives\n",
    "    FN = spark.sql(\"  SELECT *\\\n",
    "                      FROM matched_data \\\n",
    "                      WHERE matched_data.a_id == matched_data.b_id and matched_data.a_id != 'Fake Index' and matched_data.b_id != 'Fake Index' and matched_data.a_name != matched_data.b_name and matched_data.a_surname != matched_data.b_surname \")\n",
    "    \n",
    "    TP = TP.count()\n",
    "    FP = FP.count()\n",
    "    FN = FN.count()\n",
    "    \n",
    "    precision = TP / ( TP + FP ) \n",
    "    \n",
    "    recall    = TP / ( TP + FN )\n",
    "    \n",
    "    return pd.DataFrame([[noise, download_time, joined_time , precision, recall , TP, FP , FN]], columns=['noise', 'download_time', 'joined_time', 'precision', 'recall' , 'TP', 'FP', 'FN'])\n",
    "    "
   ]
  },
  {
   "cell_type": "code",
   "execution_count": 51,
   "id": "37d6b858",
   "metadata": {
    "scrolled": true
   },
   "outputs": [
    {
     "name": "stdout",
     "output_type": "stream",
     "text": [
      "   noise          download_time            joined_time  precision    recall  \\\n",
      "0      0 0 days 00:00:00.084614 0 days 00:00:00.009028   0.975309  0.765504   \n",
      "0     10 0 days 00:00:00.072021 0 days 00:00:00.010834   0.975309  0.765504   \n",
      "0     20 0 days 00:00:00.101917 0 days 00:00:00.009735   0.975309  0.765504   \n",
      "0     30 0 days 00:00:00.096663 0 days 00:00:00.010662   0.975309  0.765504   \n",
      "0     40 0 days 00:00:00.161308 0 days 00:00:00.010672   0.975309  0.765504   \n",
      "..   ...                    ...                    ...        ...       ...   \n",
      "0    950 0 days 00:00:00.763908 0 days 00:00:00.011306   0.975369  0.765957   \n",
      "0    960 0 days 00:00:01.165393 0 days 00:00:00.006684   0.975369  0.765957   \n",
      "0    970 0 days 00:00:01.851275 0 days 00:00:00.008781   0.975490  0.766859   \n",
      "0    980 0 days 00:00:00.665921 0 days 00:00:00.038845   0.975430  0.766409   \n",
      "0    990 0 days 00:00:00.616860 0 days 00:00:00.009468   0.973105  0.766859   \n",
      "\n",
      "     TP  FP   FN  \n",
      "0   395  10  121  \n",
      "0   395  10  121  \n",
      "0   395  10  121  \n",
      "0   395  10  121  \n",
      "0   395  10  121  \n",
      "..  ...  ..  ...  \n",
      "0   396  10  121  \n",
      "0   396  10  121  \n",
      "0   398  10  121  \n",
      "0   397  10  121  \n",
      "0   398  11  121  \n",
      "\n",
      "[100 rows x 8 columns]\n"
     ]
    }
   ],
   "source": [
    "hashed = 'id'\n",
    "result = pd.DataFrame(None, columns=['noise', 'download_time', 'joined_time', 'precision', 'recall', 'TP' , 'FP' , 'FN'])\n",
    "for x in range (0,1000,10):\n",
    "    result = pd.concat([result, main(hashed, x)], axis=0)\n",
    "\n",
    "result.to_csv('final_data.csv', encoding='utf-8', header=True, index=False)\n",
    "print(result)"
   ]
  },
  {
   "cell_type": "markdown",
   "id": "208e9f27",
   "metadata": {},
   "source": [
    " "
   ]
  },
  {
   "cell_type": "markdown",
   "id": "fd80a381",
   "metadata": {},
   "source": [
    " "
   ]
  },
  {
   "cell_type": "markdown",
   "id": "30cf15ed",
   "metadata": {},
   "source": [
    " "
   ]
  },
  {
   "cell_type": "markdown",
   "id": "9783724e",
   "metadata": {},
   "source": [
    " "
   ]
  },
  {
   "cell_type": "markdown",
   "id": "11cd4c58",
   "metadata": {},
   "source": [
    " "
   ]
  },
  {
   "cell_type": "markdown",
   "id": "67fcbee6",
   "metadata": {},
   "source": [
    " "
   ]
  },
  {
   "cell_type": "code",
   "execution_count": 2,
   "id": "2250d8f8",
   "metadata": {},
   "outputs": [
    {
     "data": {
      "text/plain": [
       "<Response [200]>"
      ]
     },
     "execution_count": 2,
     "metadata": {},
     "output_type": "execute_result"
    }
   ],
   "source": [
    "requests.get(f\"http://cluster-a:9200//get_initial_data\")"
   ]
  },
  {
   "cell_type": "code",
   "execution_count": 3,
   "id": "504f0b9e",
   "metadata": {},
   "outputs": [
    {
     "data": {
      "text/plain": [
       "<Response [200]>"
      ]
     },
     "execution_count": 3,
     "metadata": {},
     "output_type": "execute_result"
    }
   ],
   "source": [
    "requests.get(f\"http://cluster-b:9300//get_initial_data\")"
   ]
  },
  {
   "cell_type": "code",
   "execution_count": 3,
   "id": "083fe764",
   "metadata": {},
   "outputs": [
    {
     "name": "stdout",
     "output_type": "stream",
     "text": [
      "b'<!DOCTYPE HTML PUBLIC \"-//W3C//DTD HTML 4.01 Transitional//EN\"\\n  \"http://www.w3.org/TR/html4/loose.dtd\">\\n<html>\\n  <head>\\n    <title>pandas.io.sql.DatabaseError: Execution failed on sql &#x27; SELECT count(*) as false_positive                                FROM a_joined_data, b_joined_data                                WHERE a_joined_data.[id] == b_joined_data.[id] and ( a_joined_data.[surname] != b_joined_data.[surname] or a_joined_data.[name] != b_joined_data.[name] ) &#x27;: no such column: b_joined_data.id // Werkzeug Debugger</title>\\n    <link rel=\"stylesheet\" href=\"?__debugger__=yes&amp;cmd=resource&amp;f=style.css\"\\n        type=\"text/css\">\\n    <!-- We need to make sure this has a favicon so that the debugger does\\n         not accidentally trigger a request to /favicon.ico which might\\n         change the application\\'s state. -->\\n    <link rel=\"shortcut icon\"\\n        href=\"?__debugger__=yes&amp;cmd=resource&amp;f=console.png\">\\n    <script src=\"?__debugger__=yes&amp;cmd=resource&amp;f=debugger.js\"></script>\\n    <script type=\"text/javascript\">\\n      var TRACEBACK = 139696464352096,\\n          CONSOLE_MODE = false,\\n          EVALEX = true,\\n          EVALEX_TRUSTED = false,\\n          SECRET = \"3S08muIF6NBoXD41Eb3D\";\\n    </script>\\n  </head>\\n  <body style=\"background-color: #fff\">\\n    <div class=\"debugger\">\\n<h1>pandas.io.sql.DatabaseError</h1>\\n<div class=\"detail\">\\n  <p class=\"errormsg\">pandas.io.sql.DatabaseError: Execution failed on sql &#x27; SELECT count(*) as false_positive                                FROM a_joined_data, b_joined_data                                WHERE a_joined_data.[id] == b_joined_data.[id] and ( a_joined_data.[surname] != b_joined_data.[surname] or a_joined_data.[name] != b_joined_data.[name] ) &#x27;: no such column: b_joined_data.id</p>\\n</div>\\n<h2 class=\"traceback\">Traceback <em>(most recent call last)</em></h2>\\n<div class=\"traceback\">\\n  <h3></h3>\\n  <ul><li><div class=\"frame\" id=\"frame-139696464353344\">\\n  <h4>File <cite class=\"filename\">\"/usr/local/lib/python3.10/site-packages/pandas/io/sql.py\"</cite>,\\n      line <em class=\"line\">2056</em>,\\n      in <code class=\"function\">execute</code></h4>\\n  <div class=\"source library\"><pre class=\"line before\"><span class=\"ws\">        </span>if self.is_cursor:</pre>\\n<pre class=\"line before\"><span class=\"ws\">            </span>cur = self.con</pre>\\n<pre class=\"line before\"><span class=\"ws\">        </span>else:</pre>\\n<pre class=\"line before\"><span class=\"ws\">            </span>cur = self.con.cursor()</pre>\\n<pre class=\"line before\"><span class=\"ws\">        </span>try:</pre>\\n<pre class=\"line current\"><span class=\"ws\">            </span>cur.execute(*args, **kwargs)</pre>\\n<pre class=\"line after\"><span class=\"ws\">            </span>return cur</pre>\\n<pre class=\"line after\"><span class=\"ws\">        </span>except Exception as exc:</pre>\\n<pre class=\"line after\"><span class=\"ws\">            </span>try:</pre>\\n<pre class=\"line after\"><span class=\"ws\">                </span>self.con.rollback()</pre>\\n<pre class=\"line after\"><span class=\"ws\">            </span>except Exception as inner_exc:  # pragma: no cover</pre></div>\\n</div>\\n\\n<li><div class=\"exc-divider\">The above exception was the direct cause of the following exception:</div>\\n<li><div class=\"frame\" id=\"frame-139696464355504\">\\n  <h4>File <cite class=\"filename\">\"/usr/local/lib/python3.10/site-packages/flask/app.py\"</cite>,\\n      line <em class=\"line\">2464</em>,\\n      in <code class=\"function\">__call__</code></h4>\\n  <div class=\"source library\"><pre class=\"line before\"><span class=\"ws\"></span> </pre>\\n<pre class=\"line before\"><span class=\"ws\">    </span>def __call__(self, environ, start_response):</pre>\\n<pre class=\"line before\"><span class=\"ws\">        </span>&quot;&quot;&quot;The WSGI server calls the Flask application object as the</pre>\\n<pre class=\"line before\"><span class=\"ws\">        </span>WSGI application. This calls :meth:`wsgi_app` which can be</pre>\\n<pre class=\"line before\"><span class=\"ws\">        </span>wrapped to applying middleware.&quot;&quot;&quot;</pre>\\n<pre class=\"line current\"><span class=\"ws\">        </span>return self.wsgi_app(environ, start_response)</pre>\\n<pre class=\"line after\"><span class=\"ws\"></span> </pre>\\n<pre class=\"line after\"><span class=\"ws\">    </span>def __repr__(self):</pre>\\n<pre class=\"line after\"><span class=\"ws\">        </span>return &quot;&lt;%s %r&gt;&quot; % (self.__class__.__name__, self.name)</pre></div>\\n</div>\\n\\n<li><div class=\"frame\" id=\"frame-139696464354928\">\\n  <h4>File <cite class=\"filename\">\"/usr/local/lib/python3.10/site-packages/flask/app.py\"</cite>,\\n      line <em class=\"line\">2450</em>,\\n      in <code class=\"function\">wsgi_app</code></h4>\\n  <div class=\"source library\"><pre class=\"line before\"><span class=\"ws\">            </span>try:</pre>\\n<pre class=\"line before\"><span class=\"ws\">                </span>ctx.push()</pre>\\n<pre class=\"line before\"><span class=\"ws\">                </span>response = self.full_dispatch_request()</pre>\\n<pre class=\"line before\"><span class=\"ws\">            </span>except Exception as e:</pre>\\n<pre class=\"line before\"><span class=\"ws\">                </span>error = e</pre>\\n<pre class=\"line current\"><span class=\"ws\">                </span>response = self.handle_exception(e)</pre>\\n<pre class=\"line after\"><span class=\"ws\">            </span>except:  # noqa: B001</pre>\\n<pre class=\"line after\"><span class=\"ws\">                </span>error = sys.exc_info()[1]</pre>\\n<pre class=\"line after\"><span class=\"ws\">                </span>raise</pre>\\n<pre class=\"line after\"><span class=\"ws\">            </span>return response(environ, start_response)</pre>\\n<pre class=\"line after\"><span class=\"ws\">        </span>finally:</pre></div>\\n</div>\\n\\n<li><div class=\"frame\" id=\"frame-139696464353200\">\\n  <h4>File <cite class=\"filename\">\"/usr/local/lib/python3.10/site-packages/flask/app.py\"</cite>,\\n      line <em class=\"line\">1867</em>,\\n      in <code class=\"function\">handle_exception</code></h4>\\n  <div class=\"source library\"><pre class=\"line before\"><span class=\"ws\">            </span># if we want to repropagate the exception, we can attempt to</pre>\\n<pre class=\"line before\"><span class=\"ws\">            </span># raise it with the whole traceback in case we can do that</pre>\\n<pre class=\"line before\"><span class=\"ws\">            </span># (the function was actually called from the except part)</pre>\\n<pre class=\"line before\"><span class=\"ws\">            </span># otherwise, we just raise the error again</pre>\\n<pre class=\"line before\"><span class=\"ws\">            </span>if exc_value is e:</pre>\\n<pre class=\"line current\"><span class=\"ws\">                </span>reraise(exc_type, exc_value, tb)</pre>\\n<pre class=\"line after\"><span class=\"ws\">            </span>else:</pre>\\n<pre class=\"line after\"><span class=\"ws\">                </span>raise e</pre>\\n<pre class=\"line after\"><span class=\"ws\"></span> </pre>\\n<pre class=\"line after\"><span class=\"ws\">        </span>self.log_exception((exc_type, exc_value, tb))</pre>\\n<pre class=\"line after\"><span class=\"ws\">        </span>server_error = InternalServerError()</pre></div>\\n</div>\\n\\n<li><div class=\"frame\" id=\"frame-139696464356320\">\\n  <h4>File <cite class=\"filename\">\"/usr/local/lib/python3.10/site-packages/flask/_compat.py\"</cite>,\\n      line <em class=\"line\">39</em>,\\n      in <code class=\"function\">reraise</code></h4>\\n  <div class=\"source library\"><pre class=\"line before\"><span class=\"ws\">    </span>import collections.abc as collections_abc</pre>\\n<pre class=\"line before\"><span class=\"ws\"></span> </pre>\\n<pre class=\"line before\"><span class=\"ws\">    </span>def reraise(tp, value, tb=None):</pre>\\n<pre class=\"line before\"><span class=\"ws\">        </span>if value.__traceback__ is not tb:</pre>\\n<pre class=\"line before\"><span class=\"ws\">            </span>raise value.with_traceback(tb)</pre>\\n<pre class=\"line current\"><span class=\"ws\">        </span>raise value</pre>\\n<pre class=\"line after\"><span class=\"ws\"></span> </pre>\\n<pre class=\"line after\"><span class=\"ws\">    </span>implements_to_string = _identity</pre>\\n<pre class=\"line after\"><span class=\"ws\"></span> </pre>\\n<pre class=\"line after\"><span class=\"ws\"></span>else:</pre>\\n<pre class=\"line after\"><span class=\"ws\">    </span>iterkeys = lambda d: d.iterkeys()</pre></div>\\n</div>\\n\\n<li><div class=\"frame\" id=\"frame-139696464352768\">\\n  <h4>File <cite class=\"filename\">\"/usr/local/lib/python3.10/site-packages/flask/app.py\"</cite>,\\n      line <em class=\"line\">2447</em>,\\n      in <code class=\"function\">wsgi_app</code></h4>\\n  <div class=\"source library\"><pre class=\"line before\"><span class=\"ws\">        </span>ctx = self.request_context(environ)</pre>\\n<pre class=\"line before\"><span class=\"ws\">        </span>error = None</pre>\\n<pre class=\"line before\"><span class=\"ws\">        </span>try:</pre>\\n<pre class=\"line before\"><span class=\"ws\">            </span>try:</pre>\\n<pre class=\"line before\"><span class=\"ws\">                </span>ctx.push()</pre>\\n<pre class=\"line current\"><span class=\"ws\">                </span>response = self.full_dispatch_request()</pre>\\n<pre class=\"line after\"><span class=\"ws\">            </span>except Exception as e:</pre>\\n<pre class=\"line after\"><span class=\"ws\">                </span>error = e</pre>\\n<pre class=\"line after\"><span class=\"ws\">                </span>response = self.handle_exception(e)</pre>\\n<pre class=\"line after\"><span class=\"ws\">            </span>except:  # noqa: B001</pre>\\n<pre class=\"line after\"><span class=\"ws\">                </span>error = sys.exc_info()[1]</pre></div>\\n</div>\\n\\n<li><div class=\"frame\" id=\"frame-139696464351568\">\\n  <h4>File <cite class=\"filename\">\"/usr/local/lib/python3.10/site-packages/flask/app.py\"</cite>,\\n      line <em class=\"line\">1952</em>,\\n      in <code class=\"function\">full_dispatch_request</code></h4>\\n  <div class=\"source library\"><pre class=\"line before\"><span class=\"ws\">            </span>request_started.send(self)</pre>\\n<pre class=\"line before\"><span class=\"ws\">            </span>rv = self.preprocess_request()</pre>\\n<pre class=\"line before\"><span class=\"ws\">            </span>if rv is None:</pre>\\n<pre class=\"line before\"><span class=\"ws\">                </span>rv = self.dispatch_request()</pre>\\n<pre class=\"line before\"><span class=\"ws\">        </span>except Exception as e:</pre>\\n<pre class=\"line current\"><span class=\"ws\">            </span>rv = self.handle_user_exception(e)</pre>\\n<pre class=\"line after\"><span class=\"ws\">        </span>return self.finalize_request(rv)</pre>\\n<pre class=\"line after\"><span class=\"ws\"></span> </pre>\\n<pre class=\"line after\"><span class=\"ws\">    </span>def finalize_request(self, rv, from_error_handler=False):</pre>\\n<pre class=\"line after\"><span class=\"ws\">        </span>&quot;&quot;&quot;Given the return value from a view function this finalizes</pre>\\n<pre class=\"line after\"><span class=\"ws\">        </span>the request by converting it into a response and invoking the</pre></div>\\n</div>\\n\\n<li><div class=\"frame\" id=\"frame-139696464354448\">\\n  <h4>File <cite class=\"filename\">\"/usr/local/lib/python3.10/site-packages/flask/app.py\"</cite>,\\n      line <em class=\"line\">1821</em>,\\n      in <code class=\"function\">handle_user_exception</code></h4>\\n  <div class=\"source library\"><pre class=\"line before\"><span class=\"ws\">            </span>return self.handle_http_exception(e)</pre>\\n<pre class=\"line before\"><span class=\"ws\"></span> </pre>\\n<pre class=\"line before\"><span class=\"ws\">        </span>handler = self._find_error_handler(e)</pre>\\n<pre class=\"line before\"><span class=\"ws\"></span> </pre>\\n<pre class=\"line before\"><span class=\"ws\">        </span>if handler is None:</pre>\\n<pre class=\"line current\"><span class=\"ws\">            </span>reraise(exc_type, exc_value, tb)</pre>\\n<pre class=\"line after\"><span class=\"ws\">        </span>return handler(e)</pre>\\n<pre class=\"line after\"><span class=\"ws\"></span> </pre>\\n<pre class=\"line after\"><span class=\"ws\">    </span>def handle_exception(self, e):</pre>\\n<pre class=\"line after\"><span class=\"ws\">        </span>&quot;&quot;&quot;Handle an exception that did not have an error handler</pre>\\n<pre class=\"line after\"><span class=\"ws\">        </span>associated with it, or that was raised from an error handler.</pre></div>\\n</div>\\n\\n<li><div class=\"frame\" id=\"frame-139696464356224\">\\n  <h4>File <cite class=\"filename\">\"/usr/local/lib/python3.10/site-packages/flask/_compat.py\"</cite>,\\n      line <em class=\"line\">39</em>,\\n      in <code class=\"function\">reraise</code></h4>\\n  <div class=\"source library\"><pre class=\"line before\"><span class=\"ws\">    </span>import collections.abc as collections_abc</pre>\\n<pre class=\"line before\"><span class=\"ws\"></span> </pre>\\n<pre class=\"line before\"><span class=\"ws\">    </span>def reraise(tp, value, tb=None):</pre>\\n<pre class=\"line before\"><span class=\"ws\">        </span>if value.__traceback__ is not tb:</pre>\\n<pre class=\"line before\"><span class=\"ws\">            </span>raise value.with_traceback(tb)</pre>\\n<pre class=\"line current\"><span class=\"ws\">        </span>raise value</pre>\\n<pre class=\"line after\"><span class=\"ws\"></span> </pre>\\n<pre class=\"line after\"><span class=\"ws\">    </span>implements_to_string = _identity</pre>\\n<pre class=\"line after\"><span class=\"ws\"></span> </pre>\\n<pre class=\"line after\"><span class=\"ws\"></span>else:</pre>\\n<pre class=\"line after\"><span class=\"ws\">    </span>iterkeys = lambda d: d.iterkeys()</pre></div>\\n</div>\\n\\n<li><div class=\"frame\" id=\"frame-139696464355264\">\\n  <h4>File <cite class=\"filename\">\"/usr/local/lib/python3.10/site-packages/flask/app.py\"</cite>,\\n      line <em class=\"line\">1950</em>,\\n      in <code class=\"function\">full_dispatch_request</code></h4>\\n  <div class=\"source library\"><pre class=\"line before\"><span class=\"ws\">        </span>self.try_trigger_before_first_request_functions()</pre>\\n<pre class=\"line before\"><span class=\"ws\">        </span>try:</pre>\\n<pre class=\"line before\"><span class=\"ws\">            </span>request_started.send(self)</pre>\\n<pre class=\"line before\"><span class=\"ws\">            </span>rv = self.preprocess_request()</pre>\\n<pre class=\"line before\"><span class=\"ws\">            </span>if rv is None:</pre>\\n<pre class=\"line current\"><span class=\"ws\">                </span>rv = self.dispatch_request()</pre>\\n<pre class=\"line after\"><span class=\"ws\">        </span>except Exception as e:</pre>\\n<pre class=\"line after\"><span class=\"ws\">            </span>rv = self.handle_user_exception(e)</pre>\\n<pre class=\"line after\"><span class=\"ws\">        </span>return self.finalize_request(rv)</pre>\\n<pre class=\"line after\"><span class=\"ws\"></span> </pre>\\n<pre class=\"line after\"><span class=\"ws\">    </span>def finalize_request(self, rv, from_error_handler=False):</pre></div>\\n</div>\\n\\n<li><div class=\"frame\" id=\"frame-139696464355600\">\\n  <h4>File <cite class=\"filename\">\"/usr/local/lib/python3.10/site-packages/flask/app.py\"</cite>,\\n      line <em class=\"line\">1936</em>,\\n      in <code class=\"function\">dispatch_request</code></h4>\\n  <div class=\"source library\"><pre class=\"line before\"><span class=\"ws\">            </span>getattr(rule, &quot;provide_automatic_options&quot;, False)</pre>\\n<pre class=\"line before\"><span class=\"ws\">            </span>and req.method == &quot;OPTIONS&quot;</pre>\\n<pre class=\"line before\"><span class=\"ws\">        </span>):</pre>\\n<pre class=\"line before\"><span class=\"ws\">            </span>return self.make_default_options_response()</pre>\\n<pre class=\"line before\"><span class=\"ws\">        </span># otherwise dispatch to the handler for that endpoint</pre>\\n<pre class=\"line current\"><span class=\"ws\">        </span>return self.view_functions[rule.endpoint](**req.view_args)</pre>\\n<pre class=\"line after\"><span class=\"ws\"></span> </pre>\\n<pre class=\"line after\"><span class=\"ws\">    </span>def full_dispatch_request(self):</pre>\\n<pre class=\"line after\"><span class=\"ws\">        </span>&quot;&quot;&quot;Dispatches the request and on top of that performs request</pre>\\n<pre class=\"line after\"><span class=\"ws\">        </span>pre and postprocessing as well as HTTP exception catching and</pre>\\n<pre class=\"line after\"><span class=\"ws\">        </span>error handling.</pre></div>\\n</div>\\n\\n<li><div class=\"frame\" id=\"frame-139696464355648\">\\n  <h4>File <cite class=\"filename\">\"/var/lib/app.py\"</cite>,\\n      line <em class=\"line\">84</em>,\\n      in <code class=\"function\">return_call</code></h4>\\n  <div class=\"source \"><pre class=\"line before\"><span class=\"ws\"></span> </pre>\\n<pre class=\"line before\"><span class=\"ws\"></span> </pre>\\n<pre class=\"line before\"><span class=\"ws\"></span> </pre>\\n<pre class=\"line before\"><span class=\"ws\"></span>@app.route(&#x27;/return_statistics/&#x27;, methods=[&#x27;GET&#x27;])</pre>\\n<pre class=\"line before\"><span class=\"ws\"></span>def return_call():</pre>\\n<pre class=\"line current\"><span class=\"ws\">    </span>return  precision()</pre>\\n<pre class=\"line after\"><span class=\"ws\"></span> </pre>\\n<pre class=\"line after\"><span class=\"ws\"></span>@app.route(&#x27;/&#x27;)</pre>\\n<pre class=\"line after\"><span class=\"ws\"></span>def get():</pre>\\n<pre class=\"line after\"><span class=\"ws\">    </span>return Response(200)</pre>\\n<pre class=\"line after\"><span class=\"ws\"></span> </pre></div>\\n</div>\\n\\n<li><div class=\"frame\" id=\"frame-139696464353392\">\\n  <h4>File <cite class=\"filename\">\"/var/lib/app.py\"</cite>,\\n      line <em class=\"line\">53</em>,\\n      in <code class=\"function\">precision</code></h4>\\n  <div class=\"source \"><pre class=\"line before\"><span class=\"ws\"></span> </pre>\\n<pre class=\"line before\"><span class=\"ws\">        </span>a_joined_data.to_sql(&#x27;a_joined_data&#x27;, conn)</pre>\\n<pre class=\"line before\"><span class=\"ws\">        </span>b_joined_data.to_sql(&#x27;b_joined_data&#x27;, conn)</pre>\\n<pre class=\"line before\"><span class=\"ws\"></span> </pre>\\n<pre class=\"line before\"><span class=\"ws\"></span> </pre>\\n<pre class=\"line current\"><span class=\"ws\">        </span>results = pd.read_sql(&#x27; SELECT count(*) as false_positive\\\\</pre>\\n<pre class=\"line after\"><span class=\"ws\">                                </span>FROM a_joined_data, b_joined_data\\\\</pre>\\n<pre class=\"line after\"><span class=\"ws\">                                </span>WHERE a_joined_data.[id] == b_joined_data.[id] and ( a_joined_data.[surname] != b_joined_data.[surname] or a_joined_data.[name] != b_joined_data.[name] ) &#x27;, conn)</pre>\\n<pre class=\"line after\"><span class=\"ws\"></span> </pre>\\n<pre class=\"line after\"><span class=\"ws\">        </span>FP = results[&#x27;false_positive&#x27;][0]</pre>\\n<pre class=\"line after\"><span class=\"ws\"></span> </pre></div>\\n</div>\\n\\n<li><div class=\"frame\" id=\"frame-139696464355024\">\\n  <h4>File <cite class=\"filename\">\"/usr/local/lib/python3.10/site-packages/pandas/io/sql.py\"</cite>,\\n      line <em class=\"line\">602</em>,\\n      in <code class=\"function\">read_sql</code></h4>\\n  <div class=\"source library\"><pre class=\"line before\"><span class=\"ws\">    </span>1           1  2010-11-12</pre>\\n<pre class=\"line before\"><span class=\"ws\">    </span>&quot;&quot;&quot;</pre>\\n<pre class=\"line before\"><span class=\"ws\">    </span>pandas_sql = pandasSQL_builder(con)</pre>\\n<pre class=\"line before\"><span class=\"ws\"></span> </pre>\\n<pre class=\"line before\"><span class=\"ws\">    </span>if isinstance(pandas_sql, SQLiteDatabase):</pre>\\n<pre class=\"line current\"><span class=\"ws\">        </span>return pandas_sql.read_query(</pre>\\n<pre class=\"line after\"><span class=\"ws\">            </span>sql,</pre>\\n<pre class=\"line after\"><span class=\"ws\">            </span>index_col=index_col,</pre>\\n<pre class=\"line after\"><span class=\"ws\">            </span>params=params,</pre>\\n<pre class=\"line after\"><span class=\"ws\">            </span>coerce_float=coerce_float,</pre>\\n<pre class=\"line after\"><span class=\"ws\">            </span>parse_dates=parse_dates,</pre></div>\\n</div>\\n\\n<li><div class=\"frame\" id=\"frame-139696464352336\">\\n  <h4>File <cite class=\"filename\">\"/usr/local/lib/python3.10/site-packages/pandas/io/sql.py\"</cite>,\\n      line <em class=\"line\">2116</em>,\\n      in <code class=\"function\">read_query</code></h4>\\n  <div class=\"source library\"><pre class=\"line before\"><span class=\"ws\">        </span>chunksize: int | None = None,</pre>\\n<pre class=\"line before\"><span class=\"ws\">        </span>dtype: DtypeArg | None = None,</pre>\\n<pre class=\"line before\"><span class=\"ws\">    </span>):</pre>\\n<pre class=\"line before\"><span class=\"ws\"></span> </pre>\\n<pre class=\"line before\"><span class=\"ws\">        </span>args = _convert_params(sql, params)</pre>\\n<pre class=\"line current\"><span class=\"ws\">        </span>cursor = self.execute(*args)</pre>\\n<pre class=\"line after\"><span class=\"ws\">        </span>columns = [col_desc[0] for col_desc in cursor.description]</pre>\\n<pre class=\"line after\"><span class=\"ws\"></span> </pre>\\n<pre class=\"line after\"><span class=\"ws\">        </span>if chunksize is not None:</pre>\\n<pre class=\"line after\"><span class=\"ws\">            </span>return self._query_iterator(</pre>\\n<pre class=\"line after\"><span class=\"ws\">                </span>cursor,</pre></div>\\n</div>\\n\\n<li><div class=\"frame\" id=\"frame-139696464352912\">\\n  <h4>File <cite class=\"filename\">\"/usr/local/lib/python3.10/site-packages/pandas/io/sql.py\"</cite>,\\n      line <em class=\"line\">2068</em>,\\n      in <code class=\"function\">execute</code></h4>\\n  <div class=\"source library\"><pre class=\"line before\"><span class=\"ws\">                    </span>f&quot;Execution failed on sql: {args[0]}\\\\n{exc}\\\\nunable to rollback&quot;</pre>\\n<pre class=\"line before\"><span class=\"ws\">                </span>)</pre>\\n<pre class=\"line before\"><span class=\"ws\">                </span>raise ex from inner_exc</pre>\\n<pre class=\"line before\"><span class=\"ws\"></span> </pre>\\n<pre class=\"line before\"><span class=\"ws\">            </span>ex = DatabaseError(f&quot;Execution failed on sql &#x27;{args[0]}&#x27;: {exc}&quot;)</pre>\\n<pre class=\"line current\"><span class=\"ws\">            </span>raise ex from exc</pre>\\n<pre class=\"line after\"><span class=\"ws\"></span> </pre>\\n<pre class=\"line after\"><span class=\"ws\">    </span>@staticmethod</pre>\\n<pre class=\"line after\"><span class=\"ws\">    </span>def _query_iterator(</pre>\\n<pre class=\"line after\"><span class=\"ws\">        </span>cursor,</pre>\\n<pre class=\"line after\"><span class=\"ws\">        </span>chunksize: int,</pre></div>\\n</div>\\n</ul>\\n  <blockquote>pandas.io.sql.DatabaseError: Execution failed on sql &#x27; SELECT count(*) as false_positive                                FROM a_joined_data, b_joined_data                                WHERE a_joined_data.[id] == b_joined_data.[id] and ( a_joined_data.[surname] != b_joined_data.[surname] or a_joined_data.[name] != b_joined_data.[name] ) &#x27;: no such column: b_joined_data.id</blockquote>\\n</div>\\n\\n<div class=\"plain\">\\n    <p>\\n      This is the Copy/Paste friendly version of the traceback.\\n    </p>\\n    <textarea cols=\"50\" rows=\"10\" name=\"code\" readonly>Traceback (most recent call last):\\n  File &quot;/usr/local/lib/python3.10/site-packages/pandas/io/sql.py&quot;, line 2056, in execute\\n    cur.execute(*args, **kwargs)\\nsqlite3.OperationalError: no such column: b_joined_data.id\\n\\nThe above exception was the direct cause of the following exception:\\n\\nTraceback (most recent call last):\\n  File &quot;/usr/local/lib/python3.10/site-packages/flask/app.py&quot;, line 2464, in __call__\\n    return self.wsgi_app(environ, start_response)\\n  File &quot;/usr/local/lib/python3.10/site-packages/flask/app.py&quot;, line 2450, in wsgi_app\\n    response = self.handle_exception(e)\\n  File &quot;/usr/local/lib/python3.10/site-packages/flask/app.py&quot;, line 1867, in handle_exception\\n    reraise(exc_type, exc_value, tb)\\n  File &quot;/usr/local/lib/python3.10/site-packages/flask/_compat.py&quot;, line 39, in reraise\\n    raise value\\n  File &quot;/usr/local/lib/python3.10/site-packages/flask/app.py&quot;, line 2447, in wsgi_app\\n    response = self.full_dispatch_request()\\n  File &quot;/usr/local/lib/python3.10/site-packages/flask/app.py&quot;, line 1952, in full_dispatch_request\\n    rv = self.handle_user_exception(e)\\n  File &quot;/usr/local/lib/python3.10/site-packages/flask/app.py&quot;, line 1821, in handle_user_exception\\n    reraise(exc_type, exc_value, tb)\\n  File &quot;/usr/local/lib/python3.10/site-packages/flask/_compat.py&quot;, line 39, in reraise\\n    raise value\\n  File &quot;/usr/local/lib/python3.10/site-packages/flask/app.py&quot;, line 1950, in full_dispatch_request\\n    rv = self.dispatch_request()\\n  File &quot;/usr/local/lib/python3.10/site-packages/flask/app.py&quot;, line 1936, in dispatch_request\\n    return self.view_functions[rule.endpoint](**req.view_args)\\n  File &quot;/var/lib/app.py&quot;, line 84, in return_call\\n    return  precision()\\n  File &quot;/var/lib/app.py&quot;, line 53, in precision\\n    results = pd.read_sql(&#x27; SELECT count(*) as false_positive\\\\\\n  File &quot;/usr/local/lib/python3.10/site-packages/pandas/io/sql.py&quot;, line 602, in read_sql\\n    return pandas_sql.read_query(\\n  File &quot;/usr/local/lib/python3.10/site-packages/pandas/io/sql.py&quot;, line 2116, in read_query\\n    cursor = self.execute(*args)\\n  File &quot;/usr/local/lib/python3.10/site-packages/pandas/io/sql.py&quot;, line 2068, in execute\\n    raise ex from exc\\npandas.io.sql.DatabaseError: Execution failed on sql &#x27; SELECT count(*) as false_positive                                FROM a_joined_data, b_joined_data                                WHERE a_joined_data.[id] == b_joined_data.[id] and ( a_joined_data.[surname] != b_joined_data.[surname] or a_joined_data.[name] != b_joined_data.[name] ) &#x27;: no such column: b_joined_data.id</textarea>\\n</div>\\n<div class=\"explanation\">\\n  The debugger caught an exception in your WSGI application.  You can now\\n  look at the traceback which led to the error.  <span class=\"nojavascript\">\\n  If you enable JavaScript you can also use additional features such as code\\n  execution (if the evalex feature is enabled), automatic pasting of the\\n  exceptions and much more.</span>\\n</div>\\n      <div class=\"footer\">\\n        Brought to you by <strong class=\"arthur\">DON\\'T PANIC</strong>, your\\n        friendly Werkzeug powered traceback interpreter.\\n      </div>\\n    </div>\\n\\n    <div class=\"pin-prompt\">\\n      <div class=\"inner\">\\n        <h3>Console Locked</h3>\\n        <p>\\n          The console is locked and needs to be unlocked by entering the PIN.\\n          You can find the PIN printed out on the standard output of your\\n          shell that runs the server.\\n        <form>\\n          <p>PIN:\\n            <input type=text name=pin size=14>\\n            <input type=submit name=btn value=\"Confirm Pin\">\\n        </form>\\n      </div>\\n    </div>\\n  </body>\\n</html>\\n\\n<!--\\n\\nTraceback (most recent call last):\\n  File \"/usr/local/lib/python3.10/site-packages/pandas/io/sql.py\", line 2056, in execute\\n    cur.execute(*args, **kwargs)\\nsqlite3.OperationalError: no such column: b_joined_data.id\\n\\nThe above exception was the direct cause of the following exception:\\n\\nTraceback (most recent call last):\\n  File \"/usr/local/lib/python3.10/site-packages/flask/app.py\", line 2464, in __call__\\n    return self.wsgi_app(environ, start_response)\\n  File \"/usr/local/lib/python3.10/site-packages/flask/app.py\", line 2450, in wsgi_app\\n    response = self.handle_exception(e)\\n  File \"/usr/local/lib/python3.10/site-packages/flask/app.py\", line 1867, in handle_exception\\n    reraise(exc_type, exc_value, tb)\\n  File \"/usr/local/lib/python3.10/site-packages/flask/_compat.py\", line 39, in reraise\\n    raise value\\n  File \"/usr/local/lib/python3.10/site-packages/flask/app.py\", line 2447, in wsgi_app\\n    response = self.full_dispatch_request()\\n  File \"/usr/local/lib/python3.10/site-packages/flask/app.py\", line 1952, in full_dispatch_request\\n    rv = self.handle_user_exception(e)\\n  File \"/usr/local/lib/python3.10/site-packages/flask/app.py\", line 1821, in handle_user_exception\\n    reraise(exc_type, exc_value, tb)\\n  File \"/usr/local/lib/python3.10/site-packages/flask/_compat.py\", line 39, in reraise\\n    raise value\\n  File \"/usr/local/lib/python3.10/site-packages/flask/app.py\", line 1950, in full_dispatch_request\\n    rv = self.dispatch_request()\\n  File \"/usr/local/lib/python3.10/site-packages/flask/app.py\", line 1936, in dispatch_request\\n    return self.view_functions[rule.endpoint](**req.view_args)\\n  File \"/var/lib/app.py\", line 84, in return_call\\n    return  precision()\\n  File \"/var/lib/app.py\", line 53, in precision\\n    results = pd.read_sql(\\' SELECT count(*) as false_positive\\\\\\n  File \"/usr/local/lib/python3.10/site-packages/pandas/io/sql.py\", line 602, in read_sql\\n    return pandas_sql.read_query(\\n  File \"/usr/local/lib/python3.10/site-packages/pandas/io/sql.py\", line 2116, in read_query\\n    cursor = self.execute(*args)\\n  File \"/usr/local/lib/python3.10/site-packages/pandas/io/sql.py\", line 2068, in execute\\n    raise ex from exc\\npandas.io.sql.DatabaseError: Execution failed on sql \\' SELECT count(*) as false_positive                                FROM a_joined_data, b_joined_data                                WHERE a_joined_data.[id] == b_joined_data.[id] and ( a_joined_data.[surname] != b_joined_data.[surname] or a_joined_data.[name] != b_joined_data.[name] ) \\': no such column: b_joined_data.id\\n\\n-->\\n'\n"
     ]
    },
    {
     "ename": "JSONDecodeError",
     "evalue": "Expecting value: line 1 column 1 (char 0)",
     "output_type": "error",
     "traceback": [
      "\u001b[0;31m---------------------------------------------------------------------------\u001b[0m",
      "\u001b[0;31mJSONDecodeError\u001b[0m                           Traceback (most recent call last)",
      "\u001b[0;32m<ipython-input-3-c9d732d63f79>\u001b[0m in \u001b[0;36m<module>\u001b[0;34m\u001b[0m\n\u001b[1;32m      1\u001b[0m \u001b[0mresult\u001b[0m \u001b[0;34m=\u001b[0m \u001b[0mrequests\u001b[0m\u001b[0;34m.\u001b[0m\u001b[0mget\u001b[0m\u001b[0;34m(\u001b[0m\u001b[0;34mf\"http://cluster-b:9300//return_statistics\"\u001b[0m\u001b[0;34m)\u001b[0m\u001b[0;34m\u001b[0m\u001b[0;34m\u001b[0m\u001b[0m\n\u001b[1;32m      2\u001b[0m \u001b[0mprint\u001b[0m\u001b[0;34m(\u001b[0m\u001b[0mresult\u001b[0m\u001b[0;34m.\u001b[0m\u001b[0mcontent\u001b[0m\u001b[0;34m)\u001b[0m\u001b[0;34m\u001b[0m\u001b[0;34m\u001b[0m\u001b[0m\n\u001b[0;32m----> 3\u001b[0;31m \u001b[0mb_cluster_result\u001b[0m \u001b[0;34m=\u001b[0m \u001b[0mjson\u001b[0m\u001b[0;34m.\u001b[0m\u001b[0mloads\u001b[0m\u001b[0;34m(\u001b[0m\u001b[0mresult\u001b[0m\u001b[0;34m.\u001b[0m\u001b[0mcontent\u001b[0m\u001b[0;34m)\u001b[0m\u001b[0;34m\u001b[0m\u001b[0;34m\u001b[0m\u001b[0m\n\u001b[0m\u001b[1;32m      4\u001b[0m \u001b[0mprint\u001b[0m\u001b[0;34m(\u001b[0m\u001b[0mb_cluster_result\u001b[0m\u001b[0;34m)\u001b[0m\u001b[0;34m\u001b[0m\u001b[0;34m\u001b[0m\u001b[0m\n",
      "\u001b[0;32m/opt/conda/lib/python3.9/json/__init__.py\u001b[0m in \u001b[0;36mloads\u001b[0;34m(s, cls, object_hook, parse_float, parse_int, parse_constant, object_pairs_hook, **kw)\u001b[0m\n\u001b[1;32m    344\u001b[0m             \u001b[0mparse_int\u001b[0m \u001b[0;32mis\u001b[0m \u001b[0;32mNone\u001b[0m \u001b[0;32mand\u001b[0m \u001b[0mparse_float\u001b[0m \u001b[0;32mis\u001b[0m \u001b[0;32mNone\u001b[0m \u001b[0;32mand\u001b[0m\u001b[0;34m\u001b[0m\u001b[0;34m\u001b[0m\u001b[0m\n\u001b[1;32m    345\u001b[0m             parse_constant is None and object_pairs_hook is None and not kw):\n\u001b[0;32m--> 346\u001b[0;31m         \u001b[0;32mreturn\u001b[0m \u001b[0m_default_decoder\u001b[0m\u001b[0;34m.\u001b[0m\u001b[0mdecode\u001b[0m\u001b[0;34m(\u001b[0m\u001b[0ms\u001b[0m\u001b[0;34m)\u001b[0m\u001b[0;34m\u001b[0m\u001b[0;34m\u001b[0m\u001b[0m\n\u001b[0m\u001b[1;32m    347\u001b[0m     \u001b[0;32mif\u001b[0m \u001b[0mcls\u001b[0m \u001b[0;32mis\u001b[0m \u001b[0;32mNone\u001b[0m\u001b[0;34m:\u001b[0m\u001b[0;34m\u001b[0m\u001b[0;34m\u001b[0m\u001b[0m\n\u001b[1;32m    348\u001b[0m         \u001b[0mcls\u001b[0m \u001b[0;34m=\u001b[0m \u001b[0mJSONDecoder\u001b[0m\u001b[0;34m\u001b[0m\u001b[0;34m\u001b[0m\u001b[0m\n",
      "\u001b[0;32m/opt/conda/lib/python3.9/json/decoder.py\u001b[0m in \u001b[0;36mdecode\u001b[0;34m(self, s, _w)\u001b[0m\n\u001b[1;32m    335\u001b[0m \u001b[0;34m\u001b[0m\u001b[0m\n\u001b[1;32m    336\u001b[0m         \"\"\"\n\u001b[0;32m--> 337\u001b[0;31m         \u001b[0mobj\u001b[0m\u001b[0;34m,\u001b[0m \u001b[0mend\u001b[0m \u001b[0;34m=\u001b[0m \u001b[0mself\u001b[0m\u001b[0;34m.\u001b[0m\u001b[0mraw_decode\u001b[0m\u001b[0;34m(\u001b[0m\u001b[0ms\u001b[0m\u001b[0;34m,\u001b[0m \u001b[0midx\u001b[0m\u001b[0;34m=\u001b[0m\u001b[0m_w\u001b[0m\u001b[0;34m(\u001b[0m\u001b[0ms\u001b[0m\u001b[0;34m,\u001b[0m \u001b[0;36m0\u001b[0m\u001b[0;34m)\u001b[0m\u001b[0;34m.\u001b[0m\u001b[0mend\u001b[0m\u001b[0;34m(\u001b[0m\u001b[0;34m)\u001b[0m\u001b[0;34m)\u001b[0m\u001b[0;34m\u001b[0m\u001b[0;34m\u001b[0m\u001b[0m\n\u001b[0m\u001b[1;32m    338\u001b[0m         \u001b[0mend\u001b[0m \u001b[0;34m=\u001b[0m \u001b[0m_w\u001b[0m\u001b[0;34m(\u001b[0m\u001b[0ms\u001b[0m\u001b[0;34m,\u001b[0m \u001b[0mend\u001b[0m\u001b[0;34m)\u001b[0m\u001b[0;34m.\u001b[0m\u001b[0mend\u001b[0m\u001b[0;34m(\u001b[0m\u001b[0;34m)\u001b[0m\u001b[0;34m\u001b[0m\u001b[0;34m\u001b[0m\u001b[0m\n\u001b[1;32m    339\u001b[0m         \u001b[0;32mif\u001b[0m \u001b[0mend\u001b[0m \u001b[0;34m!=\u001b[0m \u001b[0mlen\u001b[0m\u001b[0;34m(\u001b[0m\u001b[0ms\u001b[0m\u001b[0;34m)\u001b[0m\u001b[0;34m:\u001b[0m\u001b[0;34m\u001b[0m\u001b[0;34m\u001b[0m\u001b[0m\n",
      "\u001b[0;32m/opt/conda/lib/python3.9/json/decoder.py\u001b[0m in \u001b[0;36mraw_decode\u001b[0;34m(self, s, idx)\u001b[0m\n\u001b[1;32m    353\u001b[0m             \u001b[0mobj\u001b[0m\u001b[0;34m,\u001b[0m \u001b[0mend\u001b[0m \u001b[0;34m=\u001b[0m \u001b[0mself\u001b[0m\u001b[0;34m.\u001b[0m\u001b[0mscan_once\u001b[0m\u001b[0;34m(\u001b[0m\u001b[0ms\u001b[0m\u001b[0;34m,\u001b[0m \u001b[0midx\u001b[0m\u001b[0;34m)\u001b[0m\u001b[0;34m\u001b[0m\u001b[0;34m\u001b[0m\u001b[0m\n\u001b[1;32m    354\u001b[0m         \u001b[0;32mexcept\u001b[0m \u001b[0mStopIteration\u001b[0m \u001b[0;32mas\u001b[0m \u001b[0merr\u001b[0m\u001b[0;34m:\u001b[0m\u001b[0;34m\u001b[0m\u001b[0;34m\u001b[0m\u001b[0m\n\u001b[0;32m--> 355\u001b[0;31m             \u001b[0;32mraise\u001b[0m \u001b[0mJSONDecodeError\u001b[0m\u001b[0;34m(\u001b[0m\u001b[0;34m\"Expecting value\"\u001b[0m\u001b[0;34m,\u001b[0m \u001b[0ms\u001b[0m\u001b[0;34m,\u001b[0m \u001b[0merr\u001b[0m\u001b[0;34m.\u001b[0m\u001b[0mvalue\u001b[0m\u001b[0;34m)\u001b[0m \u001b[0;32mfrom\u001b[0m \u001b[0;32mNone\u001b[0m\u001b[0;34m\u001b[0m\u001b[0;34m\u001b[0m\u001b[0m\n\u001b[0m\u001b[1;32m    356\u001b[0m         \u001b[0;32mreturn\u001b[0m \u001b[0mobj\u001b[0m\u001b[0;34m,\u001b[0m \u001b[0mend\u001b[0m\u001b[0;34m\u001b[0m\u001b[0;34m\u001b[0m\u001b[0m\n",
      "\u001b[0;31mJSONDecodeError\u001b[0m: Expecting value: line 1 column 1 (char 0)"
     ]
    }
   ],
   "source": [
    "result = requests.get(f\"http://cluster-b:9300//return_statistics\")\n",
    "print(result.content)\n",
    "b_cluster_result = json.loads(result.content)\n",
    "print(b_cluster_result)"
   ]
  },
  {
   "cell_type": "code",
   "execution_count": 8,
   "id": "fe243999",
   "metadata": {},
   "outputs": [
    {
     "data": {
      "text/plain": [
       "405"
      ]
     },
     "execution_count": 8,
     "metadata": {},
     "output_type": "execute_result"
    }
   ],
   "source": [
    "sql_result.count()"
   ]
  },
  {
   "cell_type": "code",
   "execution_count": null,
   "id": "82e70198",
   "metadata": {},
   "outputs": [],
   "source": [
    "    #print(f\"TP = {TP} \\nFP = {FP} \\nFN = {FN}\")\n",
    "\n",
    "#     URLS = ['http://cluster-a:9200//take_data/', \n",
    "#             'http://cluster-b:9300//take_data/']\n",
    "    \n",
    "#     def send_data(url, myfiles):\n",
    "#         myfiles =  {'file': open(myfiles,'rb')}  \n",
    "#         requests.post(f'{url}', files = myfiles)\n",
    "    \n",
    "#     myfiles = list()\n",
    "#     directoryPath= '/opt/workspace/a_joined_result/'\n",
    "#     for file_name in glob.glob(directoryPath+'*.csv'):\n",
    "#         myfiles.append(file_name)\n",
    "    \n",
    "#     directoryPath= '/opt/workspace/b_joined_result/'\n",
    "#     for file_name in glob.glob(directoryPath+'*.csv'):\n",
    "#         myfiles.append(file_name)\n",
    "        \n",
    "#     with concurrent.futures.ThreadPoolExecutor(max_workers=5) as executor:\n",
    "#         task = {executor.submit(send_data, url, myfile): url for url,myfile in zip(URLS, myfiles)}\n",
    "\n",
    "#         for future in concurrent.futures.as_completed(task):\n",
    "#             url = task[future]\n",
    "#             try:\n",
    "#                 data = future.result()\n",
    "#             except Exception as exc:\n",
    "#                 print('%r generated an exception: %s' % (url, exc))\n",
    "  \n",
    "\n",
    "#     result = requests.get(f\"http://cluster-b:9300//return_statistics\")\n",
    "#     b_cluster_result = json.loads(result.content)\n",
    "    \n",
    " \n",
    "#     result = requests.get(f\"http://cluster-a:9200//return_statistics\")\n",
    "#     a_cluster_result = json.loads(result.content)\n",
    "    "
   ]
  }
 ],
 "metadata": {
  "kernelspec": {
   "display_name": "Python 3",
   "language": "python",
   "name": "python3"
  },
  "language_info": {
   "codemirror_mode": {
    "name": "ipython",
    "version": 3
   },
   "file_extension": ".py",
   "mimetype": "text/x-python",
   "name": "python",
   "nbconvert_exporter": "python",
   "pygments_lexer": "ipython3",
   "version": "3.9.4"
  }
 },
 "nbformat": 4,
 "nbformat_minor": 5
}
