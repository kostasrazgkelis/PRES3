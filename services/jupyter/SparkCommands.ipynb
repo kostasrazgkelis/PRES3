{
 "cells": [
  {
   "cell_type": "code",
   "execution_count": 45,
   "id": "6b5b7438",
   "metadata": {},
   "outputs": [],
   "source": [
    "import pyspark\n",
    "import requests\n",
    "import datetime\n",
    "\n",
    "from pyspark.sql import SparkSession \n",
    "\n",
    "spark = SparkSession.\\\n",
    "        builder.\\\n",
    "        appName(\"pyspark-notebook\").\\\n",
    "        master(\"spark://spark-master:7077\").\\\n",
    "        config(\"spark.executor.memory\", \"512m\").\\\n",
    "        getOrCreate()\n",
    "\n",
    "\n"
   ]
  },
  {
   "cell_type": "code",
   "execution_count": 50,
   "id": "51d7be08",
   "metadata": {},
   "outputs": [
    {
     "name": "stdout",
     "output_type": "stream",
     "text": [
      "0:00:04.729178\n"
     ]
    }
   ],
   "source": [
    "noise = 99\n",
    "hashed_column = 'surname'\n",
    "\n",
    "start = datetime.datetime.now()\n",
    "\n",
    "request = requests.get(f'http://cluster-a:9200//take_data/{hashed_column}/{noise}')\n",
    "url_content = request.content\n",
    "csv_file = open(\"/opt/workspace/a_download.csv\", 'wb')\n",
    "csv_file.write(url_content)\n",
    "csv_file.close()\n",
    "\n",
    "request = requests.get(f'http://cluster-b:9300//take_data/{hashed_column}/{noise}')\n",
    "url_content = request.content\n",
    "csv_file = open(\"/opt/workspace/b_download.csv\", 'wb')\n",
    "csv_file.write(url_content)\n",
    "csv_file.close()\n",
    "\n",
    "\n",
    "df_1 = spark.read.csv(path=\"/opt/workspace/a_download.csv\", sep=\",\", header=True)\n",
    "df_2 = spark.read.csv(path=\"/opt/workspace/b_download.csv\", sep=\",\", header=True)\n",
    "\n",
    "df_1.createOrReplaceTempView(\"a_cluster_data\")\n",
    "df_2.createOrReplaceTempView(\"b_cluster_data\")\n",
    "\n",
    "sql_result = spark.sql(\"  SELECT DISTINCT a_cluster_data.id_a, b_cluster_data.id_b, a_cluster_data.surname as hashed_data\\\n",
    "                          FROM a_cluster_data, b_cluster_data\\\n",
    "                          WHERE a_cluster_data.surname == b_cluster_data.surname\\\n",
    "                          ORDER BY hashed_data ASC\")\n",
    "\n",
    "sql_result.select('id_a').drop_duplicates().repartition(1).write.mode('overwrite').csv(\"/opt/workspace//id_df_a\")\n",
    "sql_result.select('id_b').drop_duplicates().repartition(1).write.mode('overwrite').csv(\"/opt/workspace//id_df_b\")\n",
    "\n",
    "stop = datetime.datetime.now()\n",
    "\n",
    "print(stop - start)"
   ]
  },
  {
   "cell_type": "code",
   "execution_count": 62,
   "id": "70b3cf31",
   "metadata": {},
   "outputs": [
    {
     "data": {
      "text/plain": [
       "1094"
      ]
     },
     "execution_count": 62,
     "metadata": {},
     "output_type": "execute_result"
    }
   ],
   "source": [
    "df_2.count()"
   ]
  },
  {
   "cell_type": "code",
   "execution_count": 46,
   "id": "883ab734",
   "metadata": {},
   "outputs": [
    {
     "name": "stdout",
     "output_type": "stream",
     "text": [
      "0:00:00.414991\n"
     ]
    }
   ],
   "source": []
  },
  {
   "cell_type": "code",
   "execution_count": 36,
   "id": "f1c73a38",
   "metadata": {},
   "outputs": [],
   "source": []
  },
  {
   "cell_type": "code",
   "execution_count": 44,
   "id": "5db75e57",
   "metadata": {},
   "outputs": [
    {
     "ename": "FileNotFoundError",
     "evalue": "[Errno 2] No such file or directory: '/opt/workspace/id_df_a/part*.csv'",
     "output_type": "error",
     "traceback": [
      "\u001b[0;31m---------------------------------------------------------------------------\u001b[0m",
      "\u001b[0;31mFileNotFoundError\u001b[0m                         Traceback (most recent call last)",
      "\u001b[0;32m<ipython-input-44-7356e2e326ac>\u001b[0m in \u001b[0;36m<module>\u001b[0;34m\u001b[0m\n\u001b[0;32m----> 1\u001b[0;31m \u001b[0mmyfiles\u001b[0m \u001b[0;34m=\u001b[0m \u001b[0;34m{\u001b[0m\u001b[0;34m'file'\u001b[0m\u001b[0;34m:\u001b[0m \u001b[0mopen\u001b[0m\u001b[0;34m(\u001b[0m\u001b[0;34m'/opt/workspace/id_df_a/part*.csv'\u001b[0m \u001b[0;34m,\u001b[0m\u001b[0;34m'rb'\u001b[0m\u001b[0;34m)\u001b[0m\u001b[0;34m}\u001b[0m\u001b[0;34m\u001b[0m\u001b[0;34m\u001b[0m\u001b[0m\n\u001b[0m\u001b[1;32m      2\u001b[0m \u001b[0mrequests\u001b[0m\u001b[0;34m.\u001b[0m\u001b[0mpost\u001b[0m\u001b[0;34m(\u001b[0m\u001b[0;34mf'http://cluster-a:9200//take_data/'\u001b[0m\u001b[0;34m,\u001b[0m \u001b[0mdata\u001b[0m\u001b[0;34m=\u001b[0m\u001b[0;34m{\u001b[0m\u001b[0;34m'column'\u001b[0m\u001b[0;34m:\u001b[0m \u001b[0mhashed_column\u001b[0m\u001b[0;34m}\u001b[0m\u001b[0;34m,\u001b[0m \u001b[0mfiles\u001b[0m \u001b[0;34m=\u001b[0m \u001b[0mmyfiles\u001b[0m\u001b[0;34m)\u001b[0m\u001b[0;34m\u001b[0m\u001b[0;34m\u001b[0m\u001b[0m\n\u001b[1;32m      3\u001b[0m \u001b[0;34m\u001b[0m\u001b[0m\n\u001b[1;32m      4\u001b[0m \u001b[0mmyfiles\u001b[0m \u001b[0;34m=\u001b[0m \u001b[0;34m{\u001b[0m\u001b[0;34m'file'\u001b[0m\u001b[0;34m:\u001b[0m \u001b[0mopen\u001b[0m\u001b[0;34m(\u001b[0m\u001b[0;34m'/opt/workspace/id_df_b/part-00000-eb201cb5-f83a-4019-8c79-014226656171-c000.csv'\u001b[0m \u001b[0;34m,\u001b[0m\u001b[0;34m'rb'\u001b[0m\u001b[0;34m)\u001b[0m\u001b[0;34m}\u001b[0m\u001b[0;34m\u001b[0m\u001b[0;34m\u001b[0m\u001b[0m\n\u001b[1;32m      5\u001b[0m \u001b[0mrequests\u001b[0m\u001b[0;34m.\u001b[0m\u001b[0mpost\u001b[0m\u001b[0;34m(\u001b[0m\u001b[0;34mf'http://cluster-b:9300//take_data/'\u001b[0m\u001b[0;34m,\u001b[0m \u001b[0mdata\u001b[0m\u001b[0;34m=\u001b[0m\u001b[0;34m{\u001b[0m\u001b[0;34m'column'\u001b[0m\u001b[0;34m:\u001b[0m \u001b[0mhashed_column\u001b[0m\u001b[0;34m}\u001b[0m\u001b[0;34m,\u001b[0m \u001b[0mfiles\u001b[0m \u001b[0;34m=\u001b[0m \u001b[0mmyfiles\u001b[0m\u001b[0;34m)\u001b[0m\u001b[0;34m\u001b[0m\u001b[0;34m\u001b[0m\u001b[0m\n",
      "\u001b[0;31mFileNotFoundError\u001b[0m: [Errno 2] No such file or directory: '/opt/workspace/id_df_a/part*.csv'"
     ]
    }
   ],
   "source": [
    "myfiles = {'file': open('/opt/workspace/id_df_a/part-00000-2cc8bcdd-f1bf-4411-9a7d-50b32be8788b-c000.csv' ,'rb')}\n",
    "requests.post(f'http://cluster-a:9200//take_data/', data={'column': hashed_column}, files = myfiles)\n",
    "\n",
    "myfiles = {'file': open('/opt/workspace/id_df_b/part-00000-eb201cb5-f83a-4019-8c79-014226656171-c000.csv' ,'rb')}\n",
    "requests.post(f'http://cluster-b:9300//take_data/', data={'column': hashed_column}, files = myfiles)"
   ]
  },
  {
   "cell_type": "code",
   "execution_count": 42,
   "id": "599f1501",
   "metadata": {},
   "outputs": [
    {
     "name": "stdout",
     "output_type": "stream",
     "text": [
      "b'Everything was completed succesfully'\n"
     ]
    }
   ],
   "source": [
    "result_1 = requests.get(f'http://cluster-b:9300//send_data_to_alice')\n",
    "print(result_1.content)\n"
   ]
  },
  {
   "cell_type": "code",
   "execution_count": 43,
   "id": "cd904acf",
   "metadata": {},
   "outputs": [
    {
     "name": "stdout",
     "output_type": "stream",
     "text": [
      "b'Everything was completed succesfully'\n"
     ]
    }
   ],
   "source": [
    "\n",
    "result_2 = requests.get(f'http://cluster-a:9200//send_data_to_bob')\n",
    "print(result_2.content)"
   ]
  },
  {
   "cell_type": "code",
   "execution_count": null,
   "id": "ccbafae0",
   "metadata": {},
   "outputs": [],
   "source": []
  }
 ],
 "metadata": {
  "kernelspec": {
   "display_name": "Python 3",
   "language": "python",
   "name": "python3"
  },
  "language_info": {
   "codemirror_mode": {
    "name": "ipython",
    "version": 3
   },
   "file_extension": ".py",
   "mimetype": "text/x-python",
   "name": "python",
   "nbconvert_exporter": "python",
   "pygments_lexer": "ipython3",
   "version": "3.9.4"
  }
 },
 "nbformat": 4,
 "nbformat_minor": 5
}
