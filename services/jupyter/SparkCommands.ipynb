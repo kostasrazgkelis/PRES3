{
 "cells": [
  {
   "cell_type": "code",
   "execution_count": 1,
   "id": "6b5b7438",
   "metadata": {},
   "outputs": [],
   "source": [
    "import pyspark\n",
    "import requests\n",
    "import datetime\n",
    "\n",
    "from pyspark.sql import SparkSession \n",
    "\n",
    "spark = SparkSession.\\\n",
    "        builder.\\\n",
    "        appName(\"pyspark-notebook\").\\\n",
    "        master(\"spark://spark-master:7077\").\\\n",
    "        config(\"spark.executor.memory\", \"512m\").\\\n",
    "        getOrCreate()\n",
    "\n"
   ]
  },
  {
   "cell_type": "code",
   "execution_count": 3,
   "id": "51d7be08",
   "metadata": {},
   "outputs": [],
   "source": [
    "noise = 100\n",
    "hashed_column = 'id'\n",
    "\n",
    "request = requests.get(f'http://cluster-a:9200//take_data/{hashed_column}/{noise}')\n",
    "url_content = request.content\n",
    "csv_file = open(\"/opt/workspace/a_download.csv\", 'wb')\n",
    "csv_file.write(url_content)\n",
    "csv_file.close()\n",
    "\n",
    "request = requests.get(f'http://cluster-b:9300//take_data/{hashed_column}/{noise}')\n",
    "url_content = request.content\n",
    "csv_file = open(\"/opt/workspace/b_download.csv\", 'wb')\n",
    "csv_file.write(url_content)\n",
    "csv_file.close()\n",
    "\n",
    "df_1 = spark.read.csv(path=\"/opt/workspace/a_download.csv\", sep=\",\", header=True)\n",
    "df_2 = spark.read.csv(path=\"/opt/workspace/b_download.csv\", sep=\",\", header=True)\n",
    "\n",
    "df_1.createOrReplaceTempView(\"a_cluster_data\")\n",
    "df_2.createOrReplaceTempView(\"b_cluster_data\")\n"
   ]
  },
  {
   "cell_type": "code",
   "execution_count": 15,
   "id": "182aca85",
   "metadata": {},
   "outputs": [
    {
     "name": "stdout",
     "output_type": "stream",
     "text": [
      "+----------+----------+\n",
      "|      a_id|      b_id|\n",
      "+----------+----------+\n",
      "|Fake Index|Fake Index|\n",
      "|Fake Index|Fake Index|\n",
      "|Fake Index|Fake Index|\n",
      "|Fake Index|Fake Index|\n",
      "|  AA167396|  AA167396|\n",
      "|  BY527625|  AA167396|\n",
      "|  AA118930|  AA167396|\n",
      "|Fake Index|Fake Index|\n",
      "|Fake Index|Fake Index|\n",
      "|Fake Index|Fake Index|\n",
      "|  AA135496|  AA135496|\n",
      "|Fake Index|Fake Index|\n",
      "|Fake Index|Fake Index|\n",
      "|Fake Index|Fake Index|\n",
      "|Fake Index|Fake Index|\n",
      "|Fake Index|Fake Index|\n",
      "|Fake Index|Fake Index|\n",
      "|Fake Index|Fake Index|\n",
      "|Fake Index|Fake Index|\n",
      "|  AA131831|  AA131831|\n",
      "+----------+----------+\n",
      "only showing top 20 rows\n",
      "\n",
      "0:00:03.287744\n"
     ]
    }
   ],
   "source": [
    "\n",
    "start = datetime.datetime.now()\n",
    "\n",
    "sql_result = spark.sql(\"  SELECT a_cluster_data.id as a_id, b_cluster_data.id as b_id\\\n",
    "                          FROM a_cluster_data, b_cluster_data\\\n",
    "                          WHERE a_cluster_data.name == b_cluster_data.name\\\n",
    "                          \")\n",
    "\n",
    "sql_result.show()\n",
    "\n",
    "\n",
    "sql_result.select('a_id').drop_duplicates().repartition(1).write.mode('overwrite').csv(\"/opt/workspace//id_df_a\")\n",
    "sql_result.select('b_id').drop_duplicates().repartition(1).write.mode('overwrite').csv(\"/opt/workspace//id_df_b\")\n",
    "\n",
    "stop = datetime.datetime.now()\n",
    "\n",
    "print(stop - start)"
   ]
  },
  {
   "cell_type": "code",
   "execution_count": 16,
   "id": "70b3cf31",
   "metadata": {},
   "outputs": [
    {
     "data": {
      "text/plain": [
       "239"
      ]
     },
     "execution_count": 16,
     "metadata": {},
     "output_type": "execute_result"
    }
   ],
   "source": [
    "sql_result.count()"
   ]
  },
  {
   "cell_type": "code",
   "execution_count": 12,
   "id": "883ab734",
   "metadata": {},
   "outputs": [
    {
     "name": "stdout",
     "output_type": "stream",
     "text": [
      "+----------+--------------------+--------------------+\n",
      "|        id|             surname|                name|\n",
      "+----------+--------------------+--------------------+\n",
      "|Fake Index|e31fbd99c78e1d589...|002685f817c7450b5...|\n",
      "|  AA157890|056470f11aa5e62bd...|0032999af05e220fd...|\n",
      "|Fake Index|24bb4a7cef0e5441b...|003921609eb3e8b9c...|\n",
      "|Fake Index|f2ef5fcb65d0b45d2...|0049067f1d87ec6d5...|\n",
      "|  AA111206|d1d15dad3098fc9e0...|0049aa51a630b7912...|\n",
      "|Fake Index|c64218282b8714d05...|004f97eea02372797...|\n",
      "|Fake Index|6cc270fe46895b777...|00540855f878e9074...|\n",
      "|  AA175050|7207ebf10d0512bcc...|0059209c6631b5cef...|\n",
      "|Fake Index|ab415813ac0656f51...|008e0749e654452f5...|\n",
      "|    AA2923|d094b4855e6610eb2...|009eb334164830b54...|\n",
      "|Fake Index|19b0c71007a575222...|00b0d64bb46f34f34...|\n",
      "|Fake Index|cc52227b3ff6b39e4...|00b3ceaecf48c4360...|\n",
      "|Fake Index|ac766d46911339678...|00be3dd19f080c425...|\n",
      "|Fake Index|b1a329625e507f38f...|00be3dd19f080c425...|\n",
      "|Fake Index|76e0eae85a5d516c0...|00ce5de462b556c13...|\n",
      "|   AA18189|24873cdf6bb8d0c65...|00d72392ef76175d2...|\n",
      "|Fake Index|e10d930ed772b71a9...|00e83827a78dee79c...|\n",
      "|Fake Index|e369b968112220168...|00eac3a89cdd8803c...|\n",
      "|  AA148959|186b75f5c725c38fd...|00f7ff67a31aacd2f...|\n",
      "|   AA13464|acac4e30dcb389935...|011996a58e7565da5...|\n",
      "+----------+--------------------+--------------------+\n",
      "only showing top 20 rows\n",
      "\n"
     ]
    }
   ],
   "source": [
    "df_2.show()"
   ]
  },
  {
   "cell_type": "code",
   "execution_count": 36,
   "id": "f1c73a38",
   "metadata": {},
   "outputs": [],
   "source": []
  },
  {
   "cell_type": "code",
   "execution_count": 44,
   "id": "5db75e57",
   "metadata": {},
   "outputs": [
    {
     "ename": "FileNotFoundError",
     "evalue": "[Errno 2] No such file or directory: '/opt/workspace/id_df_a/part*.csv'",
     "output_type": "error",
     "traceback": [
      "\u001b[0;31m---------------------------------------------------------------------------\u001b[0m",
      "\u001b[0;31mFileNotFoundError\u001b[0m                         Traceback (most recent call last)",
      "\u001b[0;32m<ipython-input-44-7356e2e326ac>\u001b[0m in \u001b[0;36m<module>\u001b[0;34m\u001b[0m\n\u001b[0;32m----> 1\u001b[0;31m \u001b[0mmyfiles\u001b[0m \u001b[0;34m=\u001b[0m \u001b[0;34m{\u001b[0m\u001b[0;34m'file'\u001b[0m\u001b[0;34m:\u001b[0m \u001b[0mopen\u001b[0m\u001b[0;34m(\u001b[0m\u001b[0;34m'/opt/workspace/id_df_a/part*.csv'\u001b[0m \u001b[0;34m,\u001b[0m\u001b[0;34m'rb'\u001b[0m\u001b[0;34m)\u001b[0m\u001b[0;34m}\u001b[0m\u001b[0;34m\u001b[0m\u001b[0;34m\u001b[0m\u001b[0m\n\u001b[0m\u001b[1;32m      2\u001b[0m \u001b[0mrequests\u001b[0m\u001b[0;34m.\u001b[0m\u001b[0mpost\u001b[0m\u001b[0;34m(\u001b[0m\u001b[0;34mf'http://cluster-a:9200//take_data/'\u001b[0m\u001b[0;34m,\u001b[0m \u001b[0mdata\u001b[0m\u001b[0;34m=\u001b[0m\u001b[0;34m{\u001b[0m\u001b[0;34m'column'\u001b[0m\u001b[0;34m:\u001b[0m \u001b[0mhashed_column\u001b[0m\u001b[0;34m}\u001b[0m\u001b[0;34m,\u001b[0m \u001b[0mfiles\u001b[0m \u001b[0;34m=\u001b[0m \u001b[0mmyfiles\u001b[0m\u001b[0;34m)\u001b[0m\u001b[0;34m\u001b[0m\u001b[0;34m\u001b[0m\u001b[0m\n\u001b[1;32m      3\u001b[0m \u001b[0;34m\u001b[0m\u001b[0m\n\u001b[1;32m      4\u001b[0m \u001b[0mmyfiles\u001b[0m \u001b[0;34m=\u001b[0m \u001b[0;34m{\u001b[0m\u001b[0;34m'file'\u001b[0m\u001b[0;34m:\u001b[0m \u001b[0mopen\u001b[0m\u001b[0;34m(\u001b[0m\u001b[0;34m'/opt/workspace/id_df_b/part-00000-eb201cb5-f83a-4019-8c79-014226656171-c000.csv'\u001b[0m \u001b[0;34m,\u001b[0m\u001b[0;34m'rb'\u001b[0m\u001b[0;34m)\u001b[0m\u001b[0;34m}\u001b[0m\u001b[0;34m\u001b[0m\u001b[0;34m\u001b[0m\u001b[0m\n\u001b[1;32m      5\u001b[0m \u001b[0mrequests\u001b[0m\u001b[0;34m.\u001b[0m\u001b[0mpost\u001b[0m\u001b[0;34m(\u001b[0m\u001b[0;34mf'http://cluster-b:9300//take_data/'\u001b[0m\u001b[0;34m,\u001b[0m \u001b[0mdata\u001b[0m\u001b[0;34m=\u001b[0m\u001b[0;34m{\u001b[0m\u001b[0;34m'column'\u001b[0m\u001b[0;34m:\u001b[0m \u001b[0mhashed_column\u001b[0m\u001b[0;34m}\u001b[0m\u001b[0;34m,\u001b[0m \u001b[0mfiles\u001b[0m \u001b[0;34m=\u001b[0m \u001b[0mmyfiles\u001b[0m\u001b[0;34m)\u001b[0m\u001b[0;34m\u001b[0m\u001b[0;34m\u001b[0m\u001b[0m\n",
      "\u001b[0;31mFileNotFoundError\u001b[0m: [Errno 2] No such file or directory: '/opt/workspace/id_df_a/part*.csv'"
     ]
    }
   ],
   "source": [
    "myfiles = {'file': open('/opt/workspace/id_df_a/part-00000-2cc8bcdd-f1bf-4411-9a7d-50b32be8788b-c000.csv' ,'rb')}\n",
    "requests.post(f'http://cluster-a:9200//take_data/', data={'column': hashed_column}, files = myfiles)\n",
    "\n",
    "myfiles = {'file': open('/opt/workspace/id_df_b/part-00000-eb201cb5-f83a-4019-8c79-014226656171-c000.csv' ,'rb')}\n",
    "requests.post(f'http://cluster-b:9300//take_data/', data={'column': hashed_column}, files = myfiles)"
   ]
  },
  {
   "cell_type": "code",
   "execution_count": 42,
   "id": "599f1501",
   "metadata": {},
   "outputs": [
    {
     "name": "stdout",
     "output_type": "stream",
     "text": [
      "b'Everything was completed succesfully'\n"
     ]
    }
   ],
   "source": [
    "result_1 = requests.get(f'http://cluster-b:9300//send_data_to_alice')\n",
    "print(result_1.content)\n"
   ]
  },
  {
   "cell_type": "code",
   "execution_count": 43,
   "id": "cd904acf",
   "metadata": {},
   "outputs": [
    {
     "name": "stdout",
     "output_type": "stream",
     "text": [
      "b'Everything was completed succesfully'\n"
     ]
    }
   ],
   "source": [
    "\n",
    "result_2 = requests.get(f'http://cluster-a:9200//send_data_to_bob')\n",
    "print(result_2.content)"
   ]
  },
  {
   "cell_type": "code",
   "execution_count": null,
   "id": "ccbafae0",
   "metadata": {},
   "outputs": [],
   "source": []
  }
 ],
 "metadata": {
  "kernelspec": {
   "display_name": "Python 3",
   "language": "python",
   "name": "python3"
  },
  "language_info": {
   "codemirror_mode": {
    "name": "ipython",
    "version": 3
   },
   "file_extension": ".py",
   "mimetype": "text/x-python",
   "name": "python",
   "nbconvert_exporter": "python",
   "pygments_lexer": "ipython3",
   "version": "3.9.4"
  }
 },
 "nbformat": 4,
 "nbformat_minor": 5
}
