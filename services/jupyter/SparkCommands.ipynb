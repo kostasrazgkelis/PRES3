{
 "cells": [
  {
   "cell_type": "code",
   "execution_count": 4,
   "id": "6b5b7438",
   "metadata": {},
   "outputs": [
    {
     "name": "stderr",
     "output_type": "stream",
     "text": [
      "                                                                                \r"
     ]
    }
   ],
   "source": [
    "import pyspark\n",
    "import requests\n",
    "import hashlib\n",
    "\n",
    "from pyspark.sql import SparkSession \n",
    "\n",
    "spark = SparkSession.builder \\\n",
    "    .master(\"local\") \\\n",
    "    .appName(\"PPRL\") \\\n",
    "    .getOrCreate()\n",
    "\n",
    "request = requests.get(f'http://snf-21129.ok-kno.grnetcloud.net:9200//take_data/0')\n",
    "url_content = request.content\n",
    "csv_file = open(\"a_download.csv\", 'wb')\n",
    "csv_file.write(url_content)\n",
    "csv_file.close()\n",
    "\n",
    "request = requests.get(f'http://snf-21129.ok-kno.grnetcloud.net:9300//take_data/0')\n",
    "url_content = request.content\n",
    "csv_file = open(\"b_download.csv\", 'wb')\n",
    "csv_file.write(url_content)\n",
    "csv_file.close()\n",
    "\n",
    "df_1 = spark.read.format(\"csv\").option(\"header\",    \"true\").load(\"a_download.csv\")\n",
    "df_2 = spark.read.format(\"csv\").option(\"header\",    \"true\").load(\"b_download.csv\")\n",
    "new_df = df_1.join(df_2)\n",
    "\n",
    "new_df.write.csv(\"./joined_data\")\n"
   ]
  },
  {
   "cell_type": "code",
   "execution_count": null,
   "id": "51d7be08",
   "metadata": {},
   "outputs": [],
   "source": []
  }
 ],
 "metadata": {
  "kernelspec": {
   "display_name": "Python 3 (ipykernel)",
   "language": "python",
   "name": "python3"
  },
  "language_info": {
   "codemirror_mode": {
    "name": "ipython",
    "version": 3
   },
   "file_extension": ".py",
   "mimetype": "text/x-python",
   "name": "python",
   "nbconvert_exporter": "python",
   "pygments_lexer": "ipython3",
   "version": "3.8.10"
  }
 },
 "nbformat": 4,
 "nbformat_minor": 5
}
